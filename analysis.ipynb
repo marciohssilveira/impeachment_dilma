{
 "cells": [
  {
   "cell_type": "markdown",
   "metadata": {},
   "source": [
    "# Brazil's 2016 impeachment process analysis\n",
    "The year is 2016, the majority of the federal deputies in Brazil voted 'yes' for the impeachment of Dilma Roussef, president at the time. Some information of all deputies were provided by the government website, including the lines of the speech they gave during the votation process. <br><br>\n",
    "In this notebook, I'll be analysing some voters characteristics such as gender, party and state of origin. Also, I'll be using some natural language processing for a more complex analysis of their speech. <br><br>\n",
    "You'll see that the data is in brazilian portuguese language, some translation will be provided."
   ]
  },
  {
   "cell_type": "code",
   "execution_count": 119,
   "metadata": {
    "ExecuteTime": {
     "end_time": "2020-02-12T14:17:28.155813Z",
     "start_time": "2020-02-12T14:17:28.151557Z"
    }
   },
   "outputs": [],
   "source": [
    "#importing libraries for dealing with the datasets and presenting information in graphs\n",
    "\n",
    "import pandas as pd\n",
    "import numpy as np\n",
    "import matplotlib.pyplot as plt\n",
    "import seaborn as sns"
   ]
  },
  {
   "cell_type": "code",
   "execution_count": 120,
   "metadata": {
    "ExecuteTime": {
     "end_time": "2020-02-12T14:17:28.736168Z",
     "start_time": "2020-02-12T14:17:28.723737Z"
    }
   },
   "outputs": [],
   "source": [
    "#putting the csv data into a pandas dataframe\n",
    "\n",
    "impeachment = pd.read_csv('impeachment_br.csv',index_col=0)"
   ]
  },
  {
   "cell_type": "code",
   "execution_count": 121,
   "metadata": {
    "ExecuteTime": {
     "end_time": "2020-02-12T14:17:29.339541Z",
     "start_time": "2020-02-12T14:17:29.328063Z"
    },
    "scrolled": true
   },
   "outputs": [
    {
     "data": {
      "text/html": [
       "<div>\n",
       "<style scoped>\n",
       "    .dataframe tbody tr th:only-of-type {\n",
       "        vertical-align: middle;\n",
       "    }\n",
       "\n",
       "    .dataframe tbody tr th {\n",
       "        vertical-align: top;\n",
       "    }\n",
       "\n",
       "    .dataframe thead th {\n",
       "        text-align: right;\n",
       "    }\n",
       "</style>\n",
       "<table border=\"1\" class=\"dataframe\">\n",
       "  <thead>\n",
       "    <tr style=\"text-align: right;\">\n",
       "      <th></th>\n",
       "      <th>Partido</th>\n",
       "      <th>Estado</th>\n",
       "      <th>Voto</th>\n",
       "      <th>Gênero</th>\n",
       "      <th>Fala</th>\n",
       "    </tr>\n",
       "    <tr>\n",
       "      <th>Deputado</th>\n",
       "      <th></th>\n",
       "      <th></th>\n",
       "      <th></th>\n",
       "      <th></th>\n",
       "      <th></th>\n",
       "    </tr>\n",
       "  </thead>\n",
       "  <tbody>\n",
       "    <tr>\n",
       "      <th>Abel Mesquita Jr</th>\n",
       "      <td>DEM</td>\n",
       "      <td>RR</td>\n",
       "      <td>Sim</td>\n",
       "      <td>M</td>\n",
       "      <td>Roraima, verás que o filho teu não foge à luta...</td>\n",
       "    </tr>\n",
       "    <tr>\n",
       "      <th>Carlos Andrade</th>\n",
       "      <td>PHS</td>\n",
       "      <td>RR</td>\n",
       "      <td>Sim</td>\n",
       "      <td>M</td>\n",
       "      <td>Sr. Presidente, esta não é uma história de ric...</td>\n",
       "    </tr>\n",
       "    <tr>\n",
       "      <th>Édio Lopes</th>\n",
       "      <td>PR</td>\n",
       "      <td>RR</td>\n",
       "      <td>Não</td>\n",
       "      <td>M</td>\n",
       "      <td>Sr. Presidente, o meu voto é contra o prossegu...</td>\n",
       "    </tr>\n",
       "    <tr>\n",
       "      <th>Hiran Gonçalves</th>\n",
       "      <td>PP</td>\n",
       "      <td>RR</td>\n",
       "      <td>Sim</td>\n",
       "      <td>M</td>\n",
       "      <td>Sr. Presidente, meu querido Brasil, pela minha...</td>\n",
       "    </tr>\n",
       "    <tr>\n",
       "      <th>Jhonatan de Jesus</th>\n",
       "      <td>PRB</td>\n",
       "      <td>RR</td>\n",
       "      <td>Sim</td>\n",
       "      <td>M</td>\n",
       "      <td>Sr. Presidente, nem a favor do PMDB nem a favo...</td>\n",
       "    </tr>\n",
       "  </tbody>\n",
       "</table>\n",
       "</div>"
      ],
      "text/plain": [
       "                  Partido Estado Voto Gênero  \\\n",
       "Deputado                                       \n",
       "Abel Mesquita Jr      DEM     RR  Sim      M   \n",
       "Carlos Andrade        PHS     RR  Sim      M   \n",
       "Édio Lopes             PR     RR  Não      M   \n",
       "Hiran Gonçalves        PP     RR  Sim      M   \n",
       "Jhonatan de Jesus     PRB     RR  Sim      M   \n",
       "\n",
       "                                                                Fala  \n",
       "Deputado                                                              \n",
       "Abel Mesquita Jr   Roraima, verás que o filho teu não foge à luta...  \n",
       "Carlos Andrade     Sr. Presidente, esta não é uma história de ric...  \n",
       "Édio Lopes         Sr. Presidente, o meu voto é contra o prossegu...  \n",
       "Hiran Gonçalves    Sr. Presidente, meu querido Brasil, pela minha...  \n",
       "Jhonatan de Jesus  Sr. Presidente, nem a favor do PMDB nem a favo...  "
      ]
     },
     "execution_count": 121,
     "metadata": {},
     "output_type": "execute_result"
    }
   ],
   "source": [
    "impeachment.head()"
   ]
  },
  {
   "cell_type": "code",
   "execution_count": 123,
   "metadata": {
    "ExecuteTime": {
     "end_time": "2020-02-12T14:17:42.846503Z",
     "start_time": "2020-02-12T14:17:42.838577Z"
    },
    "scrolled": true
   },
   "outputs": [
    {
     "data": {
      "text/plain": [
       "Sim          364\n",
       "Não          137\n",
       "Abstenção      7\n",
       "SIm            3\n",
       "Ausente        2\n",
       "Name: Voto, dtype: int64"
      ]
     },
     "execution_count": 123,
     "metadata": {},
     "output_type": "execute_result"
    }
   ],
   "source": [
    "impeachment['Voto'].value_counts()"
   ]
  },
  {
   "cell_type": "code",
   "execution_count": 127,
   "metadata": {
    "ExecuteTime": {
     "end_time": "2020-02-12T14:19:52.582116Z",
     "start_time": "2020-02-12T14:19:52.287448Z"
    }
   },
   "outputs": [
    {
     "data": {
      "text/plain": [
       "<matplotlib.axes._subplots.AxesSubplot at 0x127434710>"
      ]
     },
     "execution_count": 127,
     "metadata": {},
     "output_type": "execute_result"
    },
    {
     "data": {
      "image/png": "[encoded data removed]",
      "text/plain": [
       "<Figure size 360x720 with 1 Axes>"
      ]
     },
     "metadata": {
      "needs_background": "light"
     },
     "output_type": "display_data"
    }
   ],
   "source": [
    "yes_parties = (imp.groupby('Partido')['Voto'].sum() / imp.Partido.value_counts()).sort_values()*100\n",
    "yes_parties.plot(kind='barh', figsize=(5, 10), title='Percentage of YES parties')"
   ]
  },
  {
   "cell_type": "code",
   "execution_count": 129,
   "metadata": {
    "ExecuteTime": {
     "end_time": "2020-02-12T14:21:00.216533Z",
     "start_time": "2020-02-12T14:20:59.915304Z"
    }
   },
   "outputs": [
    {
     "data": {
      "text/plain": [
       "<matplotlib.axes._subplots.AxesSubplot at 0x12a2f4cc0>"
      ]
     },
     "execution_count": 129,
     "metadata": {},
     "output_type": "execute_result"
    },
    {
     "data": {
      "image/png": "[encoded data removed]",
      "text/plain": [
       "<Figure size 360x720 with 1 Axes>"
      ]
     },
     "metadata": {
      "needs_background": "light"
     },
     "output_type": "display_data"
    }
   ],
   "source": [
    "yes_states = (imp.groupby('Estado')['Voto'].sum() / imp.Estado.value_counts()).sort_values()*100\n",
    "yes_states.plot(kind='barh', figsize=(5,10), title='Percentage of YES states')"
   ]
  },
  {
   "cell_type": "markdown",
   "metadata": {},
   "source": [
    "ver os <a href='https://scikit-learn.org/stable/modules/classes.html#sklearn-metrics-metrics'>significados</a> das metricas na documentacao"
   ]
  },
  {
   "cell_type": "markdown",
   "metadata": {},
   "source": [
    "# NTLK"
   ]
  },
  {
   "cell_type": "code",
   "execution_count": 30,
   "metadata": {
    "ExecuteTime": {
     "end_time": "2020-02-12T13:24:25.525811Z",
     "start_time": "2020-02-12T13:24:25.359138Z"
    }
   },
   "outputs": [
    {
     "data": {
      "text/plain": [
       "<matplotlib.axes._subplots.AxesSubplot at 0x1211dde10>"
      ]
     },
     "execution_count": 30,
     "metadata": {},
     "output_type": "execute_result"
    },
    {
     "data": {
      "image/png": "[encoded data removed]",
      "text/plain": [
       "<Figure size 432x288 with 1 Axes>"
      ]
     },
     "metadata": {
      "needs_background": "light"
     },
     "output_type": "display_data"
    }
   ],
   "source": [
    "sns.countplot(impeachment['Voto'])"
   ]
  },
  {
   "cell_type": "code",
   "execution_count": null,
   "metadata": {},
   "outputs": [],
   "source": []
  },
  {
   "cell_type": "code",
   "execution_count": null,
   "metadata": {},
   "outputs": [],
   "source": []
  },
  {
   "cell_type": "code",
   "execution_count": null,
   "metadata": {},
   "outputs": [],
   "source": []
  },
  {
   "cell_type": "markdown",
   "metadata": {},
   "source": [
    "look for cloudwords"
   ]
  },
  {
   "cell_type": "code",
   "execution_count": null,
   "metadata": {},
   "outputs": [],
   "source": []
  },
  {
   "cell_type": "code",
   "execution_count": null,
   "metadata": {},
   "outputs": [],
   "source": []
  }
 ],
 "metadata": {
  "kernelspec": {
   "display_name": "Python 3",
   "language": "python",
   "name": "python3"
  },
  "language_info": {
   "codemirror_mode": {
    "name": "ipython",
    "version": 3
   },
   "file_extension": ".py",
   "mimetype": "text/x-python",
   "name": "python",
   "nbconvert_exporter": "python",
   "pygments_lexer": "ipython3",
   "version": "3.7.3"
  },
  "varInspector": {
   "cols": {
    "lenName": 16,
    "lenType": 16,
    "lenVar": 40
   },
   "kernels_config": {
    "python": {
     "delete_cmd_postfix": "",
     "delete_cmd_prefix": "del ",
     "library": "var_list.py",
     "varRefreshCmd": "print(var_dic_list())"
    },
    "r": {
     "delete_cmd_postfix": ") ",
     "delete_cmd_prefix": "rm(",
     "library": "var_list.r",
     "varRefreshCmd": "cat(var_dic_list()) "
    }
   },
   "types_to_exclude": [
    "module",
    "function",
    "builtin_function_or_method",
    "instance",
    "_Feature"
   ],
   "window_display": false
  }
 },
 "nbformat": 4,
 "nbformat_minor": 4
}
