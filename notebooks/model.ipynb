{
 "cells": [
  {
   "cell_type": "markdown",
   "metadata": {},
   "source": [
    "Prevent SSL error"
   ]
  },
  {
   "cell_type": "code",
   "execution_count": 1,
   "metadata": {
    "ExecuteTime": {
     "end_time": "2020-03-08T15:34:15.583602Z",
     "start_time": "2020-03-08T15:34:15.580361Z"
    }
   },
   "outputs": [],
   "source": [
    "import ssl\n",
    "\n",
    "try:\n",
    "    _create_unverified_https_context = ssl._create_unverified_context\n",
    "except AttributeError:\n",
    "    pass\n",
    "else:\n",
    "    ssl._create_default_https_context = _create_unverified_https_context"
   ]
  },
  {
   "cell_type": "markdown",
   "metadata": {},
   "source": [
    "Importing packages"
   ]
  },
  {
   "cell_type": "code",
   "execution_count": 2,
   "metadata": {
    "ExecuteTime": {
     "end_time": "2020-02-12T18:47:27.000972Z",
     "start_time": "2020-02-12T18:47:24.842753Z"
    }
   },
   "outputs": [
    {
     "name": "stderr",
     "output_type": "stream",
     "text": [
      "[nltk_data] Downloading package punkt to\n",
      "[nltk_data]     /Users/marciosilveira/nltk_data...\n",
      "[nltk_data]   Package punkt is already up-to-date!\n",
      "[nltk_data] Downloading package stopwords to\n",
      "[nltk_data]     /Users/marciosilveira/nltk_data...\n",
      "[nltk_data]   Package stopwords is already up-to-date!\n",
      "[nltk_data] Downloading package rslp to\n",
      "[nltk_data]     /Users/marciosilveira/nltk_data...\n",
      "[nltk_data]   Package rslp is already up-to-date!\n"
     ]
    },
    {
     "data": {
      "text/plain": [
       "True"
      ]
     },
     "execution_count": 2,
     "metadata": {},
     "output_type": "execute_result"
    }
   ],
   "source": [
    "import pandas as pd\n",
    "import seaborn as sns\n",
    "from sklearn.neighbors import KNeighborsClassifier\n",
    "from sklearn.model_selection import train_test_split\n",
    "from sklearn.metrics import classification_report, recall_score, precision_score, accuracy_score, confusion_matrix, plot_confusion_matrix\n",
    "from sklearn.neural_network import MLPClassifier\n",
    "from sklearn.preprocessing import MultiLabelBinarizer\n",
    "import nltk as nl\n",
    "from nltk.corpus import stopwords\n",
    "from nltk.stem import RSLPStemmer\n",
    "from nltk.tokenize import word_tokenize, sent_tokenize\n",
    "nl.download('punkt')\n",
    "nl.download('stopwords')\n",
    "nl.download('rslp')"
   ]
  },
  {
   "cell_type": "markdown",
   "metadata": {},
   "source": [
    "# Predict the vote by party"
   ]
  },
  {
   "cell_type": "markdown",
   "metadata": {},
   "source": [
    "Create dataframe based on csv"
   ]
  },
  {
   "cell_type": "code",
   "execution_count": 3,
   "metadata": {
    "ExecuteTime": {
     "end_time": "2020-02-12T18:47:27.017749Z",
     "start_time": "2020-02-12T18:47:27.006156Z"
    }
   },
   "outputs": [],
   "source": [
    "impeachment = pd.read_csv('impeachment_br.csv',index_col=0)"
   ]
  },
  {
   "cell_type": "markdown",
   "metadata": {},
   "source": [
    "Some feature engineering"
   ]
  },
  {
   "cell_type": "code",
   "execution_count": 4,
   "metadata": {
    "ExecuteTime": {
     "end_time": "2020-02-12T18:47:27.027379Z",
     "start_time": "2020-02-12T18:47:27.020071Z"
    }
   },
   "outputs": [],
   "source": [
    "def trata_voto(x):\n",
    "    if x == 'Sim':\n",
    "        return 1\n",
    "    else:\n",
    "        return 0\n",
    "\n",
    "impeachment['Voto'] = impeachment['Voto'].apply(trata_voto)"
   ]
  },
  {
   "cell_type": "markdown",
   "metadata": {},
   "source": [
    "Splitting train and test"
   ]
  },
  {
   "cell_type": "code",
   "execution_count": 5,
   "metadata": {
    "ExecuteTime": {
     "end_time": "2020-02-12T18:47:27.046681Z",
     "start_time": "2020-02-12T18:47:27.030534Z"
    }
   },
   "outputs": [],
   "source": [
    "X = pd.get_dummies(impeachment[['Partido']])\n",
    "y = impeachment['Voto']\n",
    "\n",
    "X_train, X_test, y_train, y_test = train_test_split(X, y, test_size=0.2)"
   ]
  },
  {
   "cell_type": "markdown",
   "metadata": {},
   "source": [
    "Choosing best n based on accuracy score"
   ]
  },
  {
   "cell_type": "code",
   "execution_count": 6,
   "metadata": {
    "ExecuteTime": {
     "end_time": "2020-02-12T18:47:27.605001Z",
     "start_time": "2020-02-12T18:47:27.053284Z"
    },
    "scrolled": false
   },
   "outputs": [
    {
     "name": "stdout",
     "output_type": "stream",
     "text": [
      "Chosen n is: 5.0\n"
     ]
    },
    {
     "data": {
      "image/png": "[encoded data removed]",
      "text/plain": [
       "<Figure size 432x288 with 1 Axes>"
      ]
     },
     "metadata": {
      "needs_background": "light"
     },
     "output_type": "display_data"
    }
   ],
   "source": [
    "metrics = pd.DataFrame(columns=['k', 'Accuracy', 'Recall', 'Precision'])\n",
    "for k in range(1, 40):\n",
    "    model = KNeighborsClassifier(n_neighbors=k)\n",
    "    model.fit(X_train, y_train)\n",
    "    y_pred = model.predict(X_test)\n",
    "    accuracy = accuracy_score(y_test, y_pred)\n",
    "    precision = precision_score(y_test, y_pred)\n",
    "    recall = recall_score(y_test, y_pred)\n",
    "    metrics.loc[k] = [k, accuracy, recall, precision]\n",
    "\n",
    "metrics.sort_values(by=['Recall', 'Precision', 'Accuracy'], ascending=False)\n",
    "ax = metrics.plot(kind='line', x='k', y='Recall')\n",
    "metrics.plot(kind='line', x='k', y='Accuracy', ax=ax)\n",
    "metrics.plot(kind='line', x='k', y='Precision', ax=ax)\n",
    "\n",
    "max_accuracy = metrics['Accuracy'].max()\n",
    "ns = list(metrics[metrics['Accuracy'] == max_accuracy]['k'])\n",
    "n = ns[0]\n",
    "print('Chosen n is:', n)"
   ]
  },
  {
   "cell_type": "code",
   "execution_count": 7,
   "metadata": {
    "ExecuteTime": {
     "end_time": "2020-02-12T18:47:27.621197Z",
     "start_time": "2020-02-12T18:47:27.608240Z"
    },
    "scrolled": true
   },
   "outputs": [],
   "source": [
    "model = KNeighborsClassifier(n_neighbors=int(n))\n",
    "\n",
    "model.fit(X_train, y_train)\n",
    "\n",
    "y_pred = model.predict(X_test)"
   ]
  },
  {
   "cell_type": "markdown",
   "metadata": {},
   "source": [
    "Metrics"
   ]
  },
  {
   "cell_type": "code",
   "execution_count": 8,
   "metadata": {
    "ExecuteTime": {
     "end_time": "2020-02-12T18:47:27.645605Z",
     "start_time": "2020-02-12T18:47:27.626813Z"
    },
    "scrolled": false
   },
   "outputs": [
    {
     "name": "stdout",
     "output_type": "stream",
     "text": [
      "Accuracy score: 0.8737864077669902 \n",
      "\n",
      "\n",
      "Confusion matrix:\n",
      "\n",
      " [[17 11]\n",
      " [ 2 73]] \n",
      "\n",
      "\n",
      "Classification report:\n",
      "\n",
      "               precision    recall  f1-score   support\n",
      "\n",
      "           0       0.89      0.61      0.72        28\n",
      "           1       0.87      0.97      0.92        75\n",
      "\n",
      "    accuracy                           0.87       103\n",
      "   macro avg       0.88      0.79      0.82       103\n",
      "weighted avg       0.88      0.87      0.87       103\n",
      "\n"
     ]
    }
   ],
   "source": [
    "print('Accuracy score:', accuracy_score(y_test, y_pred), '\\n\\n')\n",
    "print('Confusion matrix:\\n\\n', confusion_matrix(y_test, y_pred), '\\n\\n')\n",
    "print('Classification report:\\n\\n', classification_report(y_test, y_pred))"
   ]
  },
  {
   "cell_type": "markdown",
   "metadata": {},
   "source": [
    "# Predict the vote by speech"
   ]
  },
  {
   "cell_type": "code",
   "execution_count": 9,
   "metadata": {
    "ExecuteTime": {
     "end_time": "2020-02-12T18:47:27.667609Z",
     "start_time": "2020-02-12T18:47:27.652670Z"
    }
   },
   "outputs": [],
   "source": [
    "impeachment = pd.read_csv('impeachment_br.csv',index_col=0)"
   ]
  },
  {
   "cell_type": "code",
   "execution_count": 10,
   "metadata": {
    "ExecuteTime": {
     "end_time": "2020-02-12T18:47:27.818720Z",
     "start_time": "2020-02-12T18:47:27.669706Z"
    },
    "scrolled": false
   },
   "outputs": [
    {
     "data": {
      "text/plain": [
       "<matplotlib.axes._subplots.AxesSubplot at 0x11a3504e0>"
      ]
     },
     "execution_count": 10,
     "metadata": {},
     "output_type": "execute_result"
    },
    {
     "data": {
      "image/png": "[encoded data removed]",
      "text/plain": [
       "<Figure size 432x288 with 1 Axes>"
      ]
     },
     "metadata": {
      "needs_background": "light"
     },
     "output_type": "display_data"
    }
   ],
   "source": [
    "sns.countplot(impeachment['Voto'])"
   ]
  },
  {
   "cell_type": "markdown",
   "metadata": {},
   "source": [
    "The proportions of yes and no would imply in bias, let's sample by the size of the no, then..."
   ]
  },
  {
   "cell_type": "code",
   "execution_count": 11,
   "metadata": {
    "ExecuteTime": {
     "end_time": "2020-02-12T18:47:27.831090Z",
     "start_time": "2020-02-12T18:47:27.821239Z"
    }
   },
   "outputs": [],
   "source": [
    "yes = impeachment.loc[impeachment['Voto'] == 'Sim']\n",
    "no = impeachment.loc[impeachment['Voto'] == 'Não']\n",
    "sample_yes = yes.sample(len(no))"
   ]
  },
  {
   "cell_type": "markdown",
   "metadata": {},
   "source": [
    "Now let's create a sample dataframe with the same proportions of yes and no to avoid bias..."
   ]
  },
  {
   "cell_type": "code",
   "execution_count": 12,
   "metadata": {
    "ExecuteTime": {
     "end_time": "2020-02-12T18:47:27.840745Z",
     "start_time": "2020-02-12T18:47:27.835544Z"
    }
   },
   "outputs": [],
   "source": [
    "sample_votes = pd.concat([no, sample_yes], axis=0)"
   ]
  },
  {
   "cell_type": "markdown",
   "metadata": {},
   "source": [
    "Now let's add a space between the speeches"
   ]
  },
  {
   "cell_type": "code",
   "execution_count": 13,
   "metadata": {
    "ExecuteTime": {
     "end_time": "2020-02-12T18:47:27.850295Z",
     "start_time": "2020-02-12T18:47:27.843983Z"
    }
   },
   "outputs": [],
   "source": [
    "def add_space(x):\n",
    "    return ' ' + x\n",
    "\n",
    "\n",
    "sample_votes['Fala'] = sample_votes['Fala'].apply(add_space)"
   ]
  },
  {
   "cell_type": "markdown",
   "metadata": {},
   "source": [
    "Now let's separate the yes and no to create the corpus"
   ]
  },
  {
   "cell_type": "code",
   "execution_count": 14,
   "metadata": {
    "ExecuteTime": {
     "end_time": "2020-02-12T18:47:27.861325Z",
     "start_time": "2020-02-12T18:47:27.852698Z"
    }
   },
   "outputs": [],
   "source": [
    "yes = sample_votes.loc[sample_votes['Voto'] == 'Sim']\n",
    "no = sample_votes.loc[sample_votes['Voto'] == 'Não']\n",
    "\n",
    "text_yes = yes['Fala'].sum()\n",
    "text_no = no['Fala'].sum()"
   ]
  },
  {
   "cell_type": "code",
   "execution_count": 15,
   "metadata": {
    "ExecuteTime": {
     "end_time": "2020-02-12T18:47:28.004743Z",
     "start_time": "2020-02-12T18:47:27.865689Z"
    }
   },
   "outputs": [],
   "source": [
    "token_yes = word_tokenize(text_yes)\n",
    "token_no = word_tokenize(text_no)"
   ]
  },
  {
   "cell_type": "markdown",
   "metadata": {},
   "source": [
    "Removing Portuguese stopwords and ignoring symbols and len(word) < 1"
   ]
  },
  {
   "cell_type": "code",
   "execution_count": 16,
   "metadata": {
    "ExecuteTime": {
     "end_time": "2020-02-12T18:47:30.790171Z",
     "start_time": "2020-02-12T18:47:28.006955Z"
    }
   },
   "outputs": [],
   "source": [
    "list_yes = []\n",
    "for word in token_yes:\n",
    "    if word not in stopwords.words('Portuguese') and len(word) > 1:\n",
    "        list_yes.append(word)\n",
    "\n",
    "list_no = []\n",
    "for word in token_no:\n",
    "    if word not in stopwords.words('Portuguese') and len(word) > 1:\n",
    "        list_no.append(word)\n",
    "\n",
    "series_yes = pd.Series(list_yes)\n",
    "series_no = pd.Series(list_no)"
   ]
  },
  {
   "cell_type": "markdown",
   "metadata": {},
   "source": [
    "Most said words"
   ]
  },
  {
   "cell_type": "code",
   "execution_count": 17,
   "metadata": {
    "ExecuteTime": {
     "end_time": "2020-02-12T18:47:31.276842Z",
     "start_time": "2020-02-12T18:47:30.792429Z"
    }
   },
   "outputs": [
    {
     "data": {
      "text/plain": [
       "<matplotlib.axes._subplots.AxesSubplot at 0x11a2c0828>"
      ]
     },
     "execution_count": 17,
     "metadata": {},
     "output_type": "execute_result"
    },
    {
     "data": {
      "image/png": "[encoded data removed]",
      "text/plain": [
       "<Figure size 360x720 with 1 Axes>"
      ]
     },
     "metadata": {
      "needs_background": "light"
     },
     "output_type": "display_data"
    }
   ],
   "source": [
    "m_yes = series_yes.value_counts().head(50).sort_values()\n",
    "m_yes.plot(kind='barh', figsize=(5, 10), title='Impeach')"
   ]
  },
  {
   "cell_type": "code",
   "execution_count": 18,
   "metadata": {
    "ExecuteTime": {
     "end_time": "2020-02-12T18:47:31.763887Z",
     "start_time": "2020-02-12T18:47:31.279303Z"
    }
   },
   "outputs": [
    {
     "data": {
      "text/plain": [
       "<matplotlib.axes._subplots.AxesSubplot at 0x11a77f6d8>"
      ]
     },
     "execution_count": 18,
     "metadata": {},
     "output_type": "execute_result"
    },
    {
     "data": {
      "image/png": "[encoded data removed]",
      "text/plain": [
       "<Figure size 360x720 with 1 Axes>"
      ]
     },
     "metadata": {
      "needs_background": "light"
     },
     "output_type": "display_data"
    }
   ],
   "source": [
    "m_no = series_no.value_counts().head(50).sort_values()\n",
    "m_no.plot(kind='barh', figsize=(5, 10), title='Do not impeach')"
   ]
  },
  {
   "cell_type": "code",
   "execution_count": 19,
   "metadata": {
    "ExecuteTime": {
     "end_time": "2020-02-12T18:47:31.933742Z",
     "start_time": "2020-02-12T18:47:31.766104Z"
    }
   },
   "outputs": [],
   "source": [
    "def labels(column):\n",
    "    speech = column['Fala']\n",
    "    vote = column['Voto']\n",
    "    token = word_tokenize(speech)\n",
    "    words = []\n",
    "    if vote == 'Sim':\n",
    "        for word in token:\n",
    "            if word in m_yes.index:\n",
    "                words.append(word)\n",
    "    if vote == 'Não':\n",
    "        for word in token:\n",
    "            if word in m_no.index:\n",
    "                words.append(word)\n",
    "    return words\n",
    "\n",
    "label = sample_votes.apply(labels, axis=1)\n",
    "\n",
    "mlb = MultiLabelBinarizer()\n",
    "data = mlb.fit_transform(label)\n",
    "columns = mlb.classes_\n",
    "label_2 = pd.DataFrame(data=data, columns=columns, index=sample_votes.index)\n",
    "data_2 = pd.concat([sample_votes, label_2], axis=1)"
   ]
  },
  {
   "cell_type": "code",
   "execution_count": 20,
   "metadata": {
    "ExecuteTime": {
     "end_time": "2020-02-12T18:47:31.945834Z",
     "start_time": "2020-02-12T18:47:31.936049Z"
    }
   },
   "outputs": [],
   "source": [
    "X = data_2.drop(['Partido', 'Estado', 'Voto', 'Gênero', 'Fala'], axis=1)\n",
    "y = data_2['Voto'].astype('category').cat.codes\n",
    "\n",
    "X_train, X_test, y_train, y_test = train_test_split(X, y, test_size=0.2)"
   ]
  },
  {
   "cell_type": "markdown",
   "metadata": {},
   "source": [
    "Model"
   ]
  },
  {
   "cell_type": "code",
   "execution_count": 21,
   "metadata": {
    "ExecuteTime": {
     "end_time": "2020-02-12T18:47:32.218939Z",
     "start_time": "2020-02-12T18:47:31.948239Z"
    },
    "scrolled": true
   },
   "outputs": [
    {
     "name": "stderr",
     "output_type": "stream",
     "text": [
      "/Users/marciosilveira/.virtualenvs/data_science/lib/python3.7/site-packages/sklearn/neural_network/_multilayer_perceptron.py:571: ConvergenceWarning: Stochastic Optimizer: Maximum iterations (200) reached and the optimization hasn't converged yet.\n"
     ]
    }
   ],
   "source": [
    "model = MLPClassifier()\n",
    "\n",
    "model.fit(X_train, y_train)\n",
    "\n",
    "y_pred = model.predict(X_test)"
   ]
  },
  {
   "cell_type": "code",
   "execution_count": 22,
   "metadata": {
    "ExecuteTime": {
     "end_time": "2020-02-12T18:47:32.237177Z",
     "start_time": "2020-02-12T18:47:32.221394Z"
    }
   },
   "outputs": [
    {
     "name": "stdout",
     "output_type": "stream",
     "text": [
      "Accuracy score: 1.0 \n",
      "\n",
      "\n",
      "Confusion matrix:\n",
      "\n",
      " [[27  0]\n",
      " [ 0 28]] \n",
      "\n",
      "\n",
      "Classification report:\n",
      "\n",
      "               precision    recall  f1-score   support\n",
      "\n",
      "           0       1.00      1.00      1.00        27\n",
      "           1       1.00      1.00      1.00        28\n",
      "\n",
      "    accuracy                           1.00        55\n",
      "   macro avg       1.00      1.00      1.00        55\n",
      "weighted avg       1.00      1.00      1.00        55\n",
      "\n"
     ]
    }
   ],
   "source": [
    "print('Accuracy score:', accuracy_score(y_test, y_pred), '\\n\\n')\n",
    "print('Confusion matrix:\\n\\n', confusion_matrix(y_test, y_pred), '\\n\\n')\n",
    "print('Classification report:\\n\\n', classification_report(y_test, y_pred))"
   ]
  },
  {
   "cell_type": "code",
   "execution_count": 23,
   "metadata": {
    "ExecuteTime": {
     "end_time": "2020-02-12T18:47:32.255015Z",
     "start_time": "2020-02-12T18:47:32.241991Z"
    }
   },
   "outputs": [],
   "source": [
    "from sklearn.neighbors import KNeighborsClassifier\n",
    "\n",
    "model_knn = KNeighborsClassifier(metric='manhattan')\n",
    "\n",
    "model_knn.fit(X_train, y_train)\n",
    "\n",
    "y_pred_knn = model_knn.predict(X_test)"
   ]
  },
  {
   "cell_type": "code",
   "execution_count": 24,
   "metadata": {
    "ExecuteTime": {
     "end_time": "2020-02-12T18:47:32.271556Z",
     "start_time": "2020-02-12T18:47:32.257110Z"
    }
   },
   "outputs": [
    {
     "name": "stdout",
     "output_type": "stream",
     "text": [
      "Accuracy score: 0.8727272727272727 \n",
      "\n",
      "\n",
      "Confusion matrix:\n",
      "\n",
      " [[27  0]\n",
      " [ 7 21]] \n",
      "\n",
      "\n",
      "Classification report:\n",
      "\n",
      "               precision    recall  f1-score   support\n",
      "\n",
      "           0       0.79      1.00      0.89        27\n",
      "           1       1.00      0.75      0.86        28\n",
      "\n",
      "    accuracy                           0.87        55\n",
      "   macro avg       0.90      0.88      0.87        55\n",
      "weighted avg       0.90      0.87      0.87        55\n",
      "\n"
     ]
    }
   ],
   "source": [
    "print('Accuracy score:', accuracy_score(y_test, y_pred_knn), '\\n\\n')\n",
    "print('Confusion matrix:\\n\\n', confusion_matrix(y_test, y_pred_knn), '\\n\\n')\n",
    "print('Classification report:\\n\\n', classification_report(y_test, y_pred_knn))"
   ]
  },
  {
   "cell_type": "code",
   "execution_count": null,
   "metadata": {},
   "outputs": [],
   "source": []
  },
  {
   "cell_type": "code",
   "execution_count": null,
   "metadata": {},
   "outputs": [],
   "source": []
  },
  {
   "cell_type": "code",
   "execution_count": null,
   "metadata": {},
   "outputs": [],
   "source": []
  }
 ],
 "metadata": {
  "kernelspec": {
   "display_name": "Python 3",
   "language": "python",
   "name": "python3"
  },
  "language_info": {
   "codemirror_mode": {
    "name": "ipython",
    "version": 3
   },
   "file_extension": ".py",
   "mimetype": "text/x-python",
   "name": "python",
   "nbconvert_exporter": "python",
   "pygments_lexer": "ipython3",
   "version": "3.8.5"
  },
  "varInspector": {
   "cols": {
    "lenName": 16,
    "lenType": 16,
    "lenVar": 40
   },
   "kernels_config": {
    "python": {
     "delete_cmd_postfix": "",
     "delete_cmd_prefix": "del ",
     "library": "var_list.py",
     "varRefreshCmd": "print(var_dic_list())"
    },
    "r": {
     "delete_cmd_postfix": ") ",
     "delete_cmd_prefix": "rm(",
     "library": "var_list.r",
     "varRefreshCmd": "cat(var_dic_list()) "
    }
   },
   "types_to_exclude": [
    "module",
    "function",
    "builtin_function_or_method",
    "instance",
    "_Feature"
   ],
   "window_display": false
  }
 },
 "nbformat": 4,
 "nbformat_minor": 2
}
