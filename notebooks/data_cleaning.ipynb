{
 "cells": [
  {
   "cell_type": "markdown",
   "metadata": {},
   "source": [
    "# Using Pandas to clean the data"
   ]
  },
  {
   "cell_type": "code",
   "execution_count": 54,
   "metadata": {},
   "outputs": [],
   "source": [
    "import pandas as pd"
   ]
  },
  {
   "cell_type": "code",
   "execution_count": 55,
   "metadata": {},
   "outputs": [],
   "source": [
    "impeachment = pd.read_csv('/Users/marcio/Development/Projects/impeachment_dilma/data/raw/impeachment.csv')"
   ]
  },
  {
   "cell_type": "code",
   "execution_count": 56,
   "metadata": {},
   "outputs": [
    {
     "name": "stdout",
     "output_type": "stream",
     "text": [
      "<class 'pandas.core.frame.DataFrame'>\n",
      "RangeIndex: 515 entries, 0 to 514\n",
      "Data columns (total 6 columns):\n",
      " #   Column    Non-Null Count  Dtype \n",
      "---  ------    --------------  ----- \n",
      " 0   Deputado  514 non-null    object\n",
      " 1   Partido   513 non-null    object\n",
      " 2   Estado    513 non-null    object\n",
      " 3   Voto      513 non-null    object\n",
      " 4   Gênero    513 non-null    object\n",
      " 5   Fala      511 non-null    object\n",
      "dtypes: object(6)\n",
      "memory usage: 24.3+ KB\n"
     ]
    }
   ],
   "source": [
    "impeachment.info()"
   ]
  },
  {
   "cell_type": "code",
   "execution_count": 57,
   "metadata": {
    "scrolled": true
   },
   "outputs": [
    {
     "data": {
      "text/html": [
       "<div>\n",
       "<style scoped>\n",
       "    .dataframe tbody tr th:only-of-type {\n",
       "        vertical-align: middle;\n",
       "    }\n",
       "\n",
       "    .dataframe tbody tr th {\n",
       "        vertical-align: top;\n",
       "    }\n",
       "\n",
       "    .dataframe thead th {\n",
       "        text-align: right;\n",
       "    }\n",
       "</style>\n",
       "<table border=\"1\" class=\"dataframe\">\n",
       "  <thead>\n",
       "    <tr style=\"text-align: right;\">\n",
       "      <th></th>\n",
       "      <th>Deputado</th>\n",
       "      <th>Partido</th>\n",
       "      <th>Estado</th>\n",
       "      <th>Voto</th>\n",
       "      <th>Gênero</th>\n",
       "      <th>Fala</th>\n",
       "    </tr>\n",
       "  </thead>\n",
       "  <tbody>\n",
       "    <tr>\n",
       "      <th>0</th>\n",
       "      <td>Abel Mesquita Jr</td>\n",
       "      <td>DEM</td>\n",
       "      <td>RR</td>\n",
       "      <td>Sim</td>\n",
       "      <td>M</td>\n",
       "      <td>Roraima, verás que o filho teu não foge à luta...</td>\n",
       "    </tr>\n",
       "    <tr>\n",
       "      <th>1</th>\n",
       "      <td>Carlos Andrade</td>\n",
       "      <td>PHS</td>\n",
       "      <td>RR</td>\n",
       "      <td>Sim</td>\n",
       "      <td>M</td>\n",
       "      <td>Sr. Presidente, esta não é uma história de ric...</td>\n",
       "    </tr>\n",
       "    <tr>\n",
       "      <th>2</th>\n",
       "      <td>Édio Lopes</td>\n",
       "      <td>PR</td>\n",
       "      <td>RR</td>\n",
       "      <td>Não</td>\n",
       "      <td>M</td>\n",
       "      <td>Sr. Presidente, o meu voto é contra o prossegu...</td>\n",
       "    </tr>\n",
       "    <tr>\n",
       "      <th>3</th>\n",
       "      <td>Hiran Gonçalves</td>\n",
       "      <td>PP</td>\n",
       "      <td>RR</td>\n",
       "      <td>Sim</td>\n",
       "      <td>M</td>\n",
       "      <td>Sr. Presidente, meu querido Brasil, pela minha...</td>\n",
       "    </tr>\n",
       "    <tr>\n",
       "      <th>4</th>\n",
       "      <td>Jhonatan de Jesus</td>\n",
       "      <td>PRB</td>\n",
       "      <td>RR</td>\n",
       "      <td>Sim</td>\n",
       "      <td>M</td>\n",
       "      <td>Sr. Presidente, nem a favor do PMDB nem a favo...</td>\n",
       "    </tr>\n",
       "  </tbody>\n",
       "</table>\n",
       "</div>"
      ],
      "text/plain": [
       "            Deputado Partido Estado Voto Gênero  \\\n",
       "0   Abel Mesquita Jr     DEM     RR  Sim      M   \n",
       "1     Carlos Andrade     PHS     RR  Sim      M   \n",
       "2         Édio Lopes      PR     RR  Não      M   \n",
       "3    Hiran Gonçalves      PP     RR  Sim      M   \n",
       "4  Jhonatan de Jesus     PRB     RR  Sim      M   \n",
       "\n",
       "                                                Fala  \n",
       "0  Roraima, verás que o filho teu não foge à luta...  \n",
       "1  Sr. Presidente, esta não é uma história de ric...  \n",
       "2  Sr. Presidente, o meu voto é contra o prossegu...  \n",
       "3  Sr. Presidente, meu querido Brasil, pela minha...  \n",
       "4  Sr. Presidente, nem a favor do PMDB nem a favo...  "
      ]
     },
     "execution_count": 57,
     "metadata": {},
     "output_type": "execute_result"
    }
   ],
   "source": [
    "impeachment.head()"
   ]
  },
  {
   "cell_type": "code",
   "execution_count": 58,
   "metadata": {},
   "outputs": [
    {
     "data": {
      "text/html": [
       "<div>\n",
       "<style scoped>\n",
       "    .dataframe tbody tr th:only-of-type {\n",
       "        vertical-align: middle;\n",
       "    }\n",
       "\n",
       "    .dataframe tbody tr th {\n",
       "        vertical-align: top;\n",
       "    }\n",
       "\n",
       "    .dataframe thead th {\n",
       "        text-align: right;\n",
       "    }\n",
       "</style>\n",
       "<table border=\"1\" class=\"dataframe\">\n",
       "  <thead>\n",
       "    <tr style=\"text-align: right;\">\n",
       "      <th></th>\n",
       "      <th>Deputado</th>\n",
       "      <th>Partido</th>\n",
       "      <th>Estado</th>\n",
       "      <th>Voto</th>\n",
       "      <th>Gênero</th>\n",
       "      <th>Fala</th>\n",
       "    </tr>\n",
       "  </thead>\n",
       "  <tbody>\n",
       "    <tr>\n",
       "      <th>510</th>\n",
       "      <td>Paulão</td>\n",
       "      <td>PT</td>\n",
       "      <td>AL</td>\n",
       "      <td>Não</td>\n",
       "      <td>M</td>\n",
       "      <td>Companheiros e companheiras Parlamentares, pov...</td>\n",
       "    </tr>\n",
       "    <tr>\n",
       "      <th>511</th>\n",
       "      <td>Pedro Vilela</td>\n",
       "      <td>PSDB</td>\n",
       "      <td>AL</td>\n",
       "      <td>Sim</td>\n",
       "      <td>M</td>\n",
       "      <td>Sr. Presidente, Sras. e Srs. Deputados, em res...</td>\n",
       "    </tr>\n",
       "    <tr>\n",
       "      <th>512</th>\n",
       "      <td>Ronaldo Lessa</td>\n",
       "      <td>PDT</td>\n",
       "      <td>AL</td>\n",
       "      <td>Não</td>\n",
       "      <td>M</td>\n",
       "      <td>Sr. Presidente, Srs. Deputados, chegamos a uma...</td>\n",
       "    </tr>\n",
       "    <tr>\n",
       "      <th>513</th>\n",
       "      <td>NaN</td>\n",
       "      <td>NaN</td>\n",
       "      <td>NaN</td>\n",
       "      <td>NaN</td>\n",
       "      <td>NaN</td>\n",
       "      <td>NaN</td>\n",
       "    </tr>\n",
       "    <tr>\n",
       "      <th>514</th>\n",
       "      <td>Fonte: http://www.camara.leg.br/internet/sitaq...</td>\n",
       "      <td>NaN</td>\n",
       "      <td>NaN</td>\n",
       "      <td>NaN</td>\n",
       "      <td>NaN</td>\n",
       "      <td>NaN</td>\n",
       "    </tr>\n",
       "  </tbody>\n",
       "</table>\n",
       "</div>"
      ],
      "text/plain": [
       "                                              Deputado Partido Estado Voto  \\\n",
       "510                                             Paulão      PT     AL  Não   \n",
       "511                                       Pedro Vilela    PSDB     AL  Sim   \n",
       "512                                      Ronaldo Lessa     PDT     AL  Não   \n",
       "513                                                NaN     NaN    NaN  NaN   \n",
       "514  Fonte: http://www.camara.leg.br/internet/sitaq...     NaN    NaN  NaN   \n",
       "\n",
       "    Gênero                                               Fala  \n",
       "510      M  Companheiros e companheiras Parlamentares, pov...  \n",
       "511      M  Sr. Presidente, Sras. e Srs. Deputados, em res...  \n",
       "512      M  Sr. Presidente, Srs. Deputados, chegamos a uma...  \n",
       "513    NaN                                                NaN  \n",
       "514    NaN                                                NaN  "
      ]
     },
     "execution_count": 58,
     "metadata": {},
     "output_type": "execute_result"
    }
   ],
   "source": [
    "impeachment.tail()"
   ]
  },
  {
   "cell_type": "code",
   "execution_count": 59,
   "metadata": {},
   "outputs": [],
   "source": [
    "impeachment.drop(impeachment.tail(2).index, inplace=True)"
   ]
  },
  {
   "cell_type": "code",
   "execution_count": 60,
   "metadata": {
    "scrolled": true
   },
   "outputs": [
    {
     "data": {
      "text/plain": [
       "Sim          364\n",
       "Não          137\n",
       "Abstenção      7\n",
       "SIm            3\n",
       "Ausente        2\n",
       "Name: Voto, dtype: int64"
      ]
     },
     "execution_count": 60,
     "metadata": {},
     "output_type": "execute_result"
    }
   ],
   "source": [
    "impeachment['Voto'].value_counts()"
   ]
  },
  {
   "cell_type": "code",
   "execution_count": 61,
   "metadata": {},
   "outputs": [],
   "source": [
    "impeachment['Voto'] = impeachment['Voto'].str.capitalize()"
   ]
  },
  {
   "cell_type": "code",
   "execution_count": 63,
   "metadata": {},
   "outputs": [
    {
     "data": {
      "text/html": [
       "<div>\n",
       "<style scoped>\n",
       "    .dataframe tbody tr th:only-of-type {\n",
       "        vertical-align: middle;\n",
       "    }\n",
       "\n",
       "    .dataframe tbody tr th {\n",
       "        vertical-align: top;\n",
       "    }\n",
       "\n",
       "    .dataframe thead th {\n",
       "        text-align: right;\n",
       "    }\n",
       "</style>\n",
       "<table border=\"1\" class=\"dataframe\">\n",
       "  <thead>\n",
       "    <tr style=\"text-align: right;\">\n",
       "      <th></th>\n",
       "      <th>Deputado</th>\n",
       "      <th>Partido</th>\n",
       "      <th>Estado</th>\n",
       "      <th>Voto</th>\n",
       "      <th>Gênero</th>\n",
       "      <th>Fala</th>\n",
       "    </tr>\n",
       "  </thead>\n",
       "  <tbody>\n",
       "    <tr>\n",
       "      <th>272</th>\n",
       "      <td>Aníbal Gomes</td>\n",
       "      <td>PMDB</td>\n",
       "      <td>CE</td>\n",
       "      <td>Ausente</td>\n",
       "      <td>M</td>\n",
       "      <td>NaN</td>\n",
       "    </tr>\n",
       "    <tr>\n",
       "      <th>304</th>\n",
       "      <td>Clarissa Garotinho</td>\n",
       "      <td>PR</td>\n",
       "      <td>RJ</td>\n",
       "      <td>Ausente</td>\n",
       "      <td>F</td>\n",
       "      <td>NaN</td>\n",
       "    </tr>\n",
       "  </tbody>\n",
       "</table>\n",
       "</div>"
      ],
      "text/plain": [
       "               Deputado Partido Estado     Voto Gênero Fala\n",
       "272        Aníbal Gomes    PMDB     CE  Ausente      M  NaN\n",
       "304  Clarissa Garotinho      PR     RJ  Ausente      F  NaN"
      ]
     },
     "execution_count": 63,
     "metadata": {},
     "output_type": "execute_result"
    }
   ],
   "source": [
    "impeachment[impeachment['Voto'] == 'Ausente']"
   ]
  },
  {
   "cell_type": "code",
   "execution_count": 65,
   "metadata": {},
   "outputs": [],
   "source": [
    "impeachment.drop(impeachment[impeachment['Voto'] == 'Ausente'].index, inplace=True)"
   ]
  },
  {
   "cell_type": "code",
   "execution_count": 67,
   "metadata": {},
   "outputs": [
    {
     "name": "stdout",
     "output_type": "stream",
     "text": [
      "<class 'pandas.core.frame.DataFrame'>\n",
      "Int64Index: 511 entries, 0 to 512\n",
      "Data columns (total 6 columns):\n",
      " #   Column    Non-Null Count  Dtype \n",
      "---  ------    --------------  ----- \n",
      " 0   Deputado  511 non-null    object\n",
      " 1   Partido   511 non-null    object\n",
      " 2   Estado    511 non-null    object\n",
      " 3   Voto      511 non-null    object\n",
      " 4   Gênero    511 non-null    object\n",
      " 5   Fala      511 non-null    object\n",
      "dtypes: object(6)\n",
      "memory usage: 27.9+ KB\n"
     ]
    }
   ],
   "source": [
    "impeachment.info()"
   ]
  },
  {
   "cell_type": "code",
   "execution_count": 68,
   "metadata": {},
   "outputs": [],
   "source": [
    "impeachment.to_csv('/Users/marcio/Development/Projects/impeachment_dilma/data/interim/impeachment.csv', index=False)"
   ]
  }
 ],
 "metadata": {
  "kernelspec": {
   "display_name": "Python 3",
   "language": "python",
   "name": "python3"
  },
  "language_info": {
   "codemirror_mode": {
    "name": "ipython",
    "version": 3
   },
   "file_extension": ".py",
   "mimetype": "text/x-python",
   "name": "python",
   "nbconvert_exporter": "python",
   "pygments_lexer": "ipython3",
   "version": "3.8.5"
  }
 },
 "nbformat": 4,
 "nbformat_minor": 4
}
