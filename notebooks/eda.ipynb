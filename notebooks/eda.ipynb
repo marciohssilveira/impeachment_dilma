{
 "cells": [
  {
   "cell_type": "markdown",
   "metadata": {},
   "source": [
    "# Visualisations"
   ]
  },
  {
   "cell_type": "code",
   "execution_count": 12,
   "metadata": {
    "ExecuteTime": {
     "end_time": "2020-02-12T14:17:28.155813Z",
     "start_time": "2020-02-12T14:17:28.151557Z"
    }
   },
   "outputs": [],
   "source": [
    "import pandas as pd\n",
    "import numpy as np\n",
    "import matplotlib.pyplot as plt\n",
    "plt.style.use('ggplot')\n",
    "import seaborn as sns"
   ]
  },
  {
   "cell_type": "code",
   "execution_count": 13,
   "metadata": {
    "ExecuteTime": {
     "end_time": "2020-02-12T14:17:28.736168Z",
     "start_time": "2020-02-12T14:17:28.723737Z"
    }
   },
   "outputs": [],
   "source": [
    "impeachment = pd.read_csv('/Users/marcio/Development/Projects/impeachment_dilma/data/interim/impeachment.csv',index_col=0)"
   ]
  },
  {
   "cell_type": "code",
   "execution_count": 14,
   "metadata": {
    "ExecuteTime": {
     "end_time": "2020-02-12T14:17:29.339541Z",
     "start_time": "2020-02-12T14:17:29.328063Z"
    },
    "scrolled": true
   },
   "outputs": [
    {
     "data": {
      "text/html": [
       "<div>\n",
       "<style scoped>\n",
       "    .dataframe tbody tr th:only-of-type {\n",
       "        vertical-align: middle;\n",
       "    }\n",
       "\n",
       "    .dataframe tbody tr th {\n",
       "        vertical-align: top;\n",
       "    }\n",
       "\n",
       "    .dataframe thead th {\n",
       "        text-align: right;\n",
       "    }\n",
       "</style>\n",
       "<table border=\"1\" class=\"dataframe\">\n",
       "  <thead>\n",
       "    <tr style=\"text-align: right;\">\n",
       "      <th></th>\n",
       "      <th>Partido</th>\n",
       "      <th>Estado</th>\n",
       "      <th>Voto</th>\n",
       "      <th>Gênero</th>\n",
       "      <th>Fala</th>\n",
       "    </tr>\n",
       "    <tr>\n",
       "      <th>Deputado</th>\n",
       "      <th></th>\n",
       "      <th></th>\n",
       "      <th></th>\n",
       "      <th></th>\n",
       "      <th></th>\n",
       "    </tr>\n",
       "  </thead>\n",
       "  <tbody>\n",
       "    <tr>\n",
       "      <th>Abel Mesquita Jr</th>\n",
       "      <td>DEM</td>\n",
       "      <td>RR</td>\n",
       "      <td>Sim</td>\n",
       "      <td>M</td>\n",
       "      <td>Roraima, verás que o filho teu não foge à luta...</td>\n",
       "    </tr>\n",
       "    <tr>\n",
       "      <th>Carlos Andrade</th>\n",
       "      <td>PHS</td>\n",
       "      <td>RR</td>\n",
       "      <td>Sim</td>\n",
       "      <td>M</td>\n",
       "      <td>Sr. Presidente, esta não é uma história de ric...</td>\n",
       "    </tr>\n",
       "    <tr>\n",
       "      <th>Édio Lopes</th>\n",
       "      <td>PR</td>\n",
       "      <td>RR</td>\n",
       "      <td>Não</td>\n",
       "      <td>M</td>\n",
       "      <td>Sr. Presidente, o meu voto é contra o prossegu...</td>\n",
       "    </tr>\n",
       "    <tr>\n",
       "      <th>Hiran Gonçalves</th>\n",
       "      <td>PP</td>\n",
       "      <td>RR</td>\n",
       "      <td>Sim</td>\n",
       "      <td>M</td>\n",
       "      <td>Sr. Presidente, meu querido Brasil, pela minha...</td>\n",
       "    </tr>\n",
       "    <tr>\n",
       "      <th>Jhonatan de Jesus</th>\n",
       "      <td>PRB</td>\n",
       "      <td>RR</td>\n",
       "      <td>Sim</td>\n",
       "      <td>M</td>\n",
       "      <td>Sr. Presidente, nem a favor do PMDB nem a favo...</td>\n",
       "    </tr>\n",
       "  </tbody>\n",
       "</table>\n",
       "</div>"
      ],
      "text/plain": [
       "                  Partido Estado Voto Gênero  \\\n",
       "Deputado                                       \n",
       "Abel Mesquita Jr      DEM     RR  Sim      M   \n",
       "Carlos Andrade        PHS     RR  Sim      M   \n",
       "Édio Lopes             PR     RR  Não      M   \n",
       "Hiran Gonçalves        PP     RR  Sim      M   \n",
       "Jhonatan de Jesus     PRB     RR  Sim      M   \n",
       "\n",
       "                                                                Fala  \n",
       "Deputado                                                              \n",
       "Abel Mesquita Jr   Roraima, verás que o filho teu não foge à luta...  \n",
       "Carlos Andrade     Sr. Presidente, esta não é uma história de ric...  \n",
       "Édio Lopes         Sr. Presidente, o meu voto é contra o prossegu...  \n",
       "Hiran Gonçalves    Sr. Presidente, meu querido Brasil, pela minha...  \n",
       "Jhonatan de Jesus  Sr. Presidente, nem a favor do PMDB nem a favo...  "
      ]
     },
     "execution_count": 14,
     "metadata": {},
     "output_type": "execute_result"
    }
   ],
   "source": [
    "impeachment.head()"
   ]
  },
  {
   "cell_type": "code",
   "execution_count": 15,
   "metadata": {},
   "outputs": [],
   "source": [
    "votes = impeachment.groupby('Partido')['Voto'].value_counts().unstack().fillna(0)\n",
    "votes_normalised = votes.div(votes.sum(axis=1), axis=0).sort_values(by='Sim') * 100"
   ]
  },
  {
   "cell_type": "code",
   "execution_count": 17,
   "metadata": {},
   "outputs": [
    {
     "data": {
      "text/plain": [
       "Text(0.5, 1.0, 'Percentagem de votos por partido')"
      ]
     },
     "execution_count": 17,
     "metadata": {},
     "output_type": "execute_result"
    },
    {
     "data": {
      "image/png": "[encoded data removed]",
      "text/plain": [
       "<Figure size 432x720 with 1 Axes>"
      ]
     },
     "metadata": {},
     "output_type": "display_data"
    }
   ],
   "source": [
    "votes_normalised.plot(kind='barh', stacked = True, figsize=(6, 10))\n",
    "plt.title('Percentagem de votos por partido');"
   ]
  },
  {
   "cell_type": "code",
   "execution_count": null,
   "metadata": {},
   "outputs": [],
   "source": []
  },
  {
   "cell_type": "code",
   "execution_count": null,
   "metadata": {},
   "outputs": [],
   "source": []
  }
 ],
 "metadata": {
  "kernelspec": {
   "display_name": "Python 3",
   "language": "python",
   "name": "python3"
  },
  "language_info": {
   "codemirror_mode": {
    "name": "ipython",
    "version": 3
   },
   "file_extension": ".py",
   "mimetype": "text/x-python",
   "name": "python",
   "nbconvert_exporter": "python",
   "pygments_lexer": "ipython3",
   "version": "3.8.5"
  },
  "varInspector": {
   "cols": {
    "lenName": 16,
    "lenType": 16,
    "lenVar": 40
   },
   "kernels_config": {
    "python": {
     "delete_cmd_postfix": "",
     "delete_cmd_prefix": "del ",
     "library": "var_list.py",
     "varRefreshCmd": "print(var_dic_list())"
    },
    "r": {
     "delete_cmd_postfix": ") ",
     "delete_cmd_prefix": "rm(",
     "library": "var_list.r",
     "varRefreshCmd": "cat(var_dic_list()) "
    }
   },
   "types_to_exclude": [
    "module",
    "function",
    "builtin_function_or_method",
    "instance",
    "_Feature"
   ],
   "window_display": false
  }
 },
 "nbformat": 4,
 "nbformat_minor": 4
}
